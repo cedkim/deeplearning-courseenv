{
  "nbformat": 4,
  "nbformat_minor": 0,
  "metadata": {
    "colab": {
      "name": "Tensorflow Audiobooks Example.ipynb",
      "provenance": [],
      "authorship_tag": "ABX9TyNJjhIkhnNQqI3dchtfMWar",
      "include_colab_link": true
    },
    "kernelspec": {
      "name": "python3",
      "display_name": "Python 3"
    }
  },
  "cells": [
    {
      "cell_type": "markdown",
      "metadata": {
        "id": "view-in-github",
        "colab_type": "text"
      },
      "source": [
        "<a href=\"https://colab.research.google.com/github/cedkim/deeplearning-courseenv/blob/master/4-tensorflow-audiobooks-example.ipynb\" target=\"_parent\"><img src=\"https://colab.research.google.com/assets/colab-badge.svg\" alt=\"Open In Colab\"/></a>"
      ]
    },
    {
      "cell_type": "markdown",
      "metadata": {
        "id": "3dLWh6pj6uZU",
        "colab_type": "text"
      },
      "source": [
        "# Practical example: Audiobooks"
      ]
    },
    {
      "cell_type": "markdown",
      "metadata": {
        "id": "Um6GJeqj7c0d",
        "colab_type": "text"
      },
      "source": [
        "## Import the necessary libraries and download the files"
      ]
    },
    {
      "cell_type": "code",
      "metadata": {
        "id": "oZ7uEG945A7J",
        "colab_type": "code",
        "colab": {}
      },
      "source": [
        "import numpy as np\n",
        "import tensorflow as tf\n",
        "from sklearn import preprocessing\n",
        "!wget -O audiobooks_data.csv \"https://onedrive.live.com/download?cid=22B0F983382BA466&resid=22B0F983382BA466%21299394&authkey=AKsawparTh_7fTc\""
      ],
      "execution_count": null,
      "outputs": []
    },
    {
      "cell_type": "markdown",
      "metadata": {
        "id": "JwfZsWjJ6xvD",
        "colab_type": "text"
      },
      "source": [
        "## Preprocess the data"
      ]
    },
    {
      "cell_type": "markdown",
      "metadata": {
        "id": "HrwHgAEo605M",
        "colab_type": "text"
      },
      "source": [
        "### Extract the data from the csv"
      ]
    },
    {
      "cell_type": "code",
      "metadata": {
        "id": "fvyknP7s7kOF",
        "colab_type": "code",
        "colab": {}
      },
      "source": [
        "raw_csv_data = np.loadtxt('audiobooks_data.csv', delimiter=',')\n",
        "\n",
        "unscaled_inputs_all = raw_csv_data[:,1:-1]\n",
        "targets_all = raw_csv_data[:,-1]"
      ],
      "execution_count": 3,
      "outputs": []
    },
    {
      "cell_type": "markdown",
      "metadata": {
        "id": "hubUPoWU84Lx",
        "colab_type": "text"
      },
      "source": [
        "### Balance the dataset"
      ]
    },
    {
      "cell_type": "code",
      "metadata": {
        "id": "_wAqV3ie8336",
        "colab_type": "code",
        "colab": {}
      },
      "source": [
        "num_one_targets = int(np.sum(targets_all))\n",
        "zero_targets_counter = 0\n",
        "indices_to_remove = []\n",
        "\n",
        "for i in range(targets_all.shape[0]):\n",
        "    if targets_all[i] == 0:\n",
        "        zero_targets_counter += 1\n",
        "        if zero_targets_counter > num_one_targets:\n",
        "            indices_to_remove.append(i)\n",
        "\n",
        "unscaled_inputs_equal_priors = np.delete(unscaled_inputs_all, indices_to_remove, axis=0)\n",
        "targets_equal_priors = np.delete(targets_all, indices_to_remove, axis=0)"
      ],
      "execution_count": 4,
      "outputs": []
    },
    {
      "cell_type": "markdown",
      "metadata": {
        "id": "JBHa2y1Z9Vlv",
        "colab_type": "text"
      },
      "source": [
        "### Standardize the inputs"
      ]
    },
    {
      "cell_type": "code",
      "metadata": {
        "id": "T0IOQDaz9qwA",
        "colab_type": "code",
        "colab": {}
      },
      "source": [
        "scaled_inputs = preprocessing.scale(unscaled_inputs_equal_priors)"
      ],
      "execution_count": 5,
      "outputs": []
    },
    {
      "cell_type": "markdown",
      "metadata": {
        "id": "NMR6QYZ79rMX",
        "colab_type": "text"
      },
      "source": [
        "### Shuffle the data"
      ]
    },
    {
      "cell_type": "code",
      "metadata": {
        "id": "I4NnybNB9zp7",
        "colab_type": "code",
        "colab": {}
      },
      "source": [
        "shuffled_indices = np.arange(scaled_inputs.shape[0])\n",
        "np.random.shuffle(shuffled_indices)\n",
        "\n",
        "shuffled_inputs = scaled_inputs[shuffled_indices]\n",
        "shuffled_targets = targets_equal_priors[shuffled_indices]"
      ],
      "execution_count": 6,
      "outputs": []
    },
    {
      "cell_type": "markdown",
      "metadata": {
        "id": "NFk1pOGN9z-p",
        "colab_type": "text"
      },
      "source": [
        "### Split the dataset into train, validation, and test"
      ]
    },
    {
      "cell_type": "code",
      "metadata": {
        "id": "LvN-NPVM97AJ",
        "colab_type": "code",
        "colab": {}
      },
      "source": [
        "samples_count = shuffled_inputs.shape[0]\n",
        "\n",
        "train_samples_count = int(0.8*samples_count)\n",
        "validation_samples_count = int(0.1*samples_count)\n",
        "test_samples_count = samples_count - train_samples_count - validation_samples_count\n",
        "\n",
        "train_inputs = shuffled_inputs[:train_samples_count]\n",
        "train_targets = shuffled_targets[:train_samples_count]\n",
        "\n",
        "validation_inputs = shuffled_inputs[train_samples_count:train_samples_count+validation_samples_count]\n",
        "validation_targets = shuffled_inputs[train_samples_count:train_samples_count+validation_samples_count]\n",
        "\n",
        "test_inputs = shuffled_inputs[train_samples_count:train_samples_count+validation_samples_count]\n",
        "test_targets = shuffled_inputs[train_samples_count:train_samples_count+validation_samples_count]\n",
        "\n",
        "print(np.sum(train_targets), train_samples_count, np.sum(train_targets) / train_samples_count)\n",
        "print(np.sum(validation_targets), validation_samples_count, np.sum(validation_targets) / validation_samples_count)\n",
        "print(np.sum(test_targets), test_samples_count, np.sum(test_targets) / test_samples_count)"
      ],
      "execution_count": null,
      "outputs": []
    },
    {
      "cell_type": "markdown",
      "metadata": {
        "id": "HHAIL77X93aN",
        "colab_type": "text"
      },
      "source": [
        "### Save the three datasets in *.npz"
      ]
    },
    {
      "cell_type": "code",
      "metadata": {
        "id": "NK_diuSt97rj",
        "colab_type": "code",
        "colab": {}
      },
      "source": [
        "np.savez('Audiobooks_data_train', input=train_inputs, targets=train_targets)\n",
        "np.savez('Audiobooks_data_validation', input=validation_inputs, targets=validation_targets)\n",
        "np.savez('Audiobooks_data_test', input=test_inputs, targets=test_targets)"
      ],
      "execution_count": 8,
      "outputs": []
    },
    {
      "cell_type": "markdown",
      "metadata": {
        "id": "6F-0fFpKCLlt",
        "colab_type": "text"
      },
      "source": [
        "## Create the machine learning algorithm"
      ]
    },
    {
      "cell_type": "markdown",
      "metadata": {
        "id": "oO8gCIS9CPhC",
        "colab_type": "text"
      },
      "source": [
        "### Data"
      ]
    },
    {
      "cell_type": "code",
      "metadata": {
        "id": "tF5YpM1lCUeR",
        "colab_type": "code",
        "colab": {}
      },
      "source": [
        "npz = np.load('Audiobooks_data_train.npz')\n",
        "\n",
        "train_inputs = npz['inputs'].astype(np.float)\n",
        "train_targets = npz['targets'].astype(np.int)\n",
        "\n",
        "npz = np.load('Audiobooks_data_validation.npz')\n",
        "\n",
        "train_inputs = npz['inputs'].astype(np.float)\n",
        "train_targets = npz['targets'].astype(np.int)\n",
        "\n",
        "npz = np.load('Audiobooks_data_test.npz')\n",
        "\n",
        "train_inputs = npz['inputs'].astype(np.float)\n",
        "train_targets = npz['targets'].astype(np.int)"
      ],
      "execution_count": null,
      "outputs": []
    },
    {
      "cell_type": "markdown",
      "metadata": {
        "id": "0LCorBj4CRdV",
        "colab_type": "text"
      },
      "source": [
        "### Model"
      ]
    },
    {
      "cell_type": "markdown",
      "metadata": {
        "id": "ZKIOLT7CDAzY",
        "colab_type": "text"
      },
      "source": [
        "#### Outline"
      ]
    },
    {
      "cell_type": "code",
      "metadata": {
        "id": "pCU9nWJLCU7L",
        "colab_type": "code",
        "colab": {}
      },
      "source": [
        "input_size = 10\n",
        "output_size = 2\n",
        "hidden_layer_size = 50\n",
        "\n",
        "model = tf.keras.Sequential([\n",
        "                            tf.keras.layers.Dense(hidden_layer_size, activation='relu'),\n",
        "                            tf.keras.layers.Dense(hidden_layer_size, activation='relu'),\n",
        "                            tf.keras.layers.Dense(output_size, activation='softmax')\n",
        "                            ])"
      ],
      "execution_count": null,
      "outputs": []
    },
    {
      "cell_type": "markdown",
      "metadata": {
        "id": "QWwf8KUkDDGH",
        "colab_type": "text"
      },
      "source": [
        "#### Optimizers"
      ]
    },
    {
      "cell_type": "code",
      "metadata": {
        "id": "-Erc9fbwDNWM",
        "colab_type": "code",
        "colab": {}
      },
      "source": [
        "model.compile(optimizer='adam', loss='sparse_categorical_crossentropy', metrics=['accuracy'])"
      ],
      "execution_count": null,
      "outputs": []
    },
    {
      "cell_type": "markdown",
      "metadata": {
        "id": "Q00maL8VDJzN",
        "colab_type": "text"
      },
      "source": [
        "#### Training (with early stopping)"
      ]
    },
    {
      "cell_type": "code",
      "metadata": {
        "id": "0KlGKHx-DPgV",
        "colab_type": "code",
        "colab": {}
      },
      "source": [
        "batch_size = 100\n",
        "\n",
        "max_epochs = 100\n",
        "\n",
        "early_stopping = tf.keras.callbacks.EarlyStopping(patience=2)\n",
        "\n",
        "model.fit(train_inputs,\n",
        "          train_targets,\n",
        "          batch_size=batch_size,\n",
        "          epochs=max_epochs,\n",
        "          callbacks=[early_stopping],\n",
        "          validation_data=(validation_inputs, validation_targets),\n",
        "          verbose=2)"
      ],
      "execution_count": null,
      "outputs": []
    }
  ]
}