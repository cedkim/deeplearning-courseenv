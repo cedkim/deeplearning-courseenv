{
  "nbformat": 4,
  "nbformat_minor": 0,
  "metadata": {
    "colab": {
      "name": "Tensorflow Audiobooks Example.ipynb",
      "provenance": [],
      "authorship_tag": "ABX9TyMpB4E1eJlpueDSpOQ2hawL",
      "include_colab_link": true
    },
    "kernelspec": {
      "name": "python3",
      "display_name": "Python 3"
    }
  },
  "cells": [
    {
      "cell_type": "markdown",
      "metadata": {
        "id": "view-in-github",
        "colab_type": "text"
      },
      "source": [
        "<a href=\"https://colab.research.google.com/github/cedkim/deeplearning-courseenv/blob/master/4-tensorflow-audiobooks-example.ipynb\" target=\"_parent\"><img src=\"https://colab.research.google.com/assets/colab-badge.svg\" alt=\"Open In Colab\"/></a>"
      ]
    },
    {
      "cell_type": "markdown",
      "metadata": {
        "id": "3dLWh6pj6uZU",
        "colab_type": "text"
      },
      "source": [
        "# Practical example: Audiobooks"
      ]
    },
    {
      "cell_type": "markdown",
      "metadata": {
        "id": "Um6GJeqj7c0d",
        "colab_type": "text"
      },
      "source": [
        "## Import the necessary libraries and download the files"
      ]
    },
    {
      "cell_type": "code",
      "metadata": {
        "id": "oZ7uEG945A7J",
        "colab_type": "code",
        "colab": {
          "base_uri": "https://localhost:8080/",
          "height": 309
        },
        "outputId": "5907cf78-3a11-42fc-8597-3e93b54e670d"
      },
      "source": [
        "import numpy as np\n",
        "from sklearn import preprocessing\n",
        "!wget -O audiobooks_data.csv \"https://onedrive.live.com/download?cid=22B0F983382BA466&resid=22B0F983382BA466%21299394&authkey=AKsawparTh_7fTc\""
      ],
      "execution_count": 2,
      "outputs": [
        {
          "output_type": "stream",
          "text": [
            "--2020-08-05 09:43:12--  https://onedrive.live.com/download?cid=22B0F983382BA466&resid=22B0F983382BA466%21299394&authkey=AKsawparTh_7fTc\n",
            "Resolving onedrive.live.com (onedrive.live.com)... 13.107.42.13\n",
            "Connecting to onedrive.live.com (onedrive.live.com)|13.107.42.13|:443... connected.\n",
            "HTTP request sent, awaiting response... 302 Found\n",
            "Location: https://hhf3tw.am.files.1drv.com/y4mfbmfXg5p1qoZTj0AOWKqpHx7XOfefm3SJx5bMyjZ8uWIAKadB26epNe7b2sR58BRk-nR8ROGPRr_4pTIrOF1DGA5N97gXaZj6FTimNeQalgn8g7mNc724ILoNG4kNJUks6YzXxXu9Q_ickPdOPzkfuK896u4x5d_gh-aPNj0q9kRrUleG6SN-TE1w63_fCKNyK_Ua3upfGpV-m4qdwsrNA/1.1%20Audiobooks_data.csv.csv?download&psid=1 [following]\n",
            "--2020-08-05 09:43:13--  https://hhf3tw.am.files.1drv.com/y4mfbmfXg5p1qoZTj0AOWKqpHx7XOfefm3SJx5bMyjZ8uWIAKadB26epNe7b2sR58BRk-nR8ROGPRr_4pTIrOF1DGA5N97gXaZj6FTimNeQalgn8g7mNc724ILoNG4kNJUks6YzXxXu9Q_ickPdOPzkfuK896u4x5d_gh-aPNj0q9kRrUleG6SN-TE1w63_fCKNyK_Ua3upfGpV-m4qdwsrNA/1.1%20Audiobooks_data.csv.csv?download&psid=1\n",
            "Resolving hhf3tw.am.files.1drv.com (hhf3tw.am.files.1drv.com)... 13.107.42.12\n",
            "Connecting to hhf3tw.am.files.1drv.com (hhf3tw.am.files.1drv.com)|13.107.42.12|:443... connected.\n",
            "HTTP request sent, awaiting response... 200 OK\n",
            "Length: 640216 (625K) [application/octet-stream]\n",
            "Saving to: ‘audiobooks_data.csv’\n",
            "\n",
            "audiobooks_data.csv 100%[===================>] 625.21K  --.-KB/s    in 0.07s   \n",
            "\n",
            "2020-08-05 09:43:14 (8.75 MB/s) - ‘audiobooks_data.csv’ saved [640216/640216]\n",
            "\n"
          ],
          "name": "stdout"
        }
      ]
    },
    {
      "cell_type": "markdown",
      "metadata": {
        "id": "JwfZsWjJ6xvD",
        "colab_type": "text"
      },
      "source": [
        "## Preprocess the data"
      ]
    },
    {
      "cell_type": "markdown",
      "metadata": {
        "id": "HrwHgAEo605M",
        "colab_type": "text"
      },
      "source": [
        "### Extract the data from the csv"
      ]
    },
    {
      "cell_type": "code",
      "metadata": {
        "id": "fvyknP7s7kOF",
        "colab_type": "code",
        "colab": {}
      },
      "source": [
        "raw_csv_data = np.loadtxt('audiobooks_data.csv', delimiter=',')\n",
        "\n",
        "unscaled_inputs_all = raw_csv_data[:,1:-1]\n",
        "targets_all = raw_csv_data[:,-1]"
      ],
      "execution_count": 3,
      "outputs": []
    },
    {
      "cell_type": "markdown",
      "metadata": {
        "id": "hubUPoWU84Lx",
        "colab_type": "text"
      },
      "source": [
        "### Balance the dataset"
      ]
    },
    {
      "cell_type": "code",
      "metadata": {
        "id": "_wAqV3ie8336",
        "colab_type": "code",
        "colab": {}
      },
      "source": [
        "num_one_targets = int(np.sum(targets_all))\n",
        "zero_targets_counter = 0\n",
        "indices_to_remove = []\n",
        "\n",
        "for i in range(targets_all.shape[0]):\n",
        "    if targets_all[i] == 0:\n",
        "        zero_targets_counter += 1\n",
        "        if zero_targets_counter > num_one_targets:\n",
        "            indices_to_remove.append(i)\n",
        "\n",
        "unscaled_inputs_equal_priors = np.delete(unscaled_inputs_all, indices_to_remove, axis=0)\n",
        "targets_equal_priors = np.delete(targets_all, indices_to_remove, axis=0)"
      ],
      "execution_count": 4,
      "outputs": []
    },
    {
      "cell_type": "markdown",
      "metadata": {
        "id": "JBHa2y1Z9Vlv",
        "colab_type": "text"
      },
      "source": [
        "### Standardize the inputs"
      ]
    },
    {
      "cell_type": "code",
      "metadata": {
        "id": "T0IOQDaz9qwA",
        "colab_type": "code",
        "colab": {}
      },
      "source": [
        "scaled_inputs = preprocessing.scale(unscaled_inputs_equal_priors)"
      ],
      "execution_count": 5,
      "outputs": []
    },
    {
      "cell_type": "markdown",
      "metadata": {
        "id": "NMR6QYZ79rMX",
        "colab_type": "text"
      },
      "source": [
        "### Shuffle the data"
      ]
    },
    {
      "cell_type": "code",
      "metadata": {
        "id": "I4NnybNB9zp7",
        "colab_type": "code",
        "colab": {}
      },
      "source": [
        "shuffled_indices = np.arange(scaled_inputs.shape[0])\n",
        "np.random.shuffle(shuffled_indices)\n",
        "\n",
        "shuffled_inputs = scaled_inputs[shuffled_indices]\n",
        "shuffled_targets = targets_equal_priors[shuffled_indices]"
      ],
      "execution_count": 6,
      "outputs": []
    },
    {
      "cell_type": "markdown",
      "metadata": {
        "id": "NFk1pOGN9z-p",
        "colab_type": "text"
      },
      "source": [
        "### Split the dataset into train, validation, and test"
      ]
    },
    {
      "cell_type": "code",
      "metadata": {
        "id": "LvN-NPVM97AJ",
        "colab_type": "code",
        "colab": {
          "base_uri": "https://localhost:8080/",
          "height": 68
        },
        "outputId": "f5e10a48-5235-44fa-9fdb-c54df02326be"
      },
      "source": [
        "samples_count = shuffled_inputs.shape[0]\n",
        "\n",
        "train_samples_count = int(0.8*samples_count)\n",
        "validation_samples_count = int(0.1*samples_count)\n",
        "test_samples_count = samples_count - train_samples_count - validation_samples_count\n",
        "\n",
        "train_inputs = shuffled_inputs[:train_samples_count]\n",
        "train_targets = shuffled_targets[:train_samples_count]\n",
        "\n",
        "validation_inputs = shuffled_inputs[train_samples_count:train_samples_count+validation_samples_count]\n",
        "validation_targets = shuffled_inputs[train_samples_count:train_samples_count+validation_samples_count]\n",
        "\n",
        "test_inputs = shuffled_inputs[train_samples_count:train_samples_count+validation_samples_count]\n",
        "test_targets = shuffled_inputs[train_samples_count:train_samples_count+validation_samples_count]\n",
        "\n",
        "print(np.sum(train_targets), train_samples_count, np.sum(train_targets) / train_samples_count)\n",
        "print(np.sum(validation_targets), validation_samples_count, np.sum(validation_targets) / validation_samples_count)\n",
        "print(np.sum(test_targets), test_samples_count, np.sum(test_targets) / test_samples_count)"
      ],
      "execution_count": 7,
      "outputs": [
        {
          "output_type": "stream",
          "text": [
            "1801.0 3579 0.5032131880413523\n",
            "118.28579839065503 447 0.2646214729097428\n",
            "118.28579839065503 448 0.2640307999791407\n"
          ],
          "name": "stdout"
        }
      ]
    },
    {
      "cell_type": "markdown",
      "metadata": {
        "id": "HHAIL77X93aN",
        "colab_type": "text"
      },
      "source": [
        "### Save the three datasets in *.npz"
      ]
    },
    {
      "cell_type": "code",
      "metadata": {
        "id": "NK_diuSt97rj",
        "colab_type": "code",
        "colab": {}
      },
      "source": [
        ""
      ],
      "execution_count": null,
      "outputs": []
    }
  ]
}