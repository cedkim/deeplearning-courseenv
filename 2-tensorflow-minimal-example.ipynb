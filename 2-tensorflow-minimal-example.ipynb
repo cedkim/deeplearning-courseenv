{
  "nbformat": 4,
  "nbformat_minor": 0,
  "metadata": {
    "colab": {
      "name": "Tensorflow Minimal Example.ipynb",
      "provenance": [],
      "authorship_tag": "ABX9TyNs8fVo32wudB+7QGIbYYbm",
      "include_colab_link": true
    },
    "kernelspec": {
      "name": "python3",
      "display_name": "Python 3"
    }
  },
  "cells": [
    {
      "cell_type": "markdown",
      "metadata": {
        "id": "view-in-github",
        "colab_type": "text"
      },
      "source": [
        "<a href=\"https://colab.research.google.com/github/cedkim/deeplearning-courseenv/blob/master/2-tensorflow-minimal-example.ipynb\" target=\"_parent\"><img src=\"https://colab.research.google.com/assets/colab-badge.svg\" alt=\"Open In Colab\"/></a>"
      ]
    },
    {
      "cell_type": "markdown",
      "metadata": {
        "id": "fjnDvqg044FI",
        "colab_type": "text"
      },
      "source": [
        "# Tensorflow Minimal Example"
      ]
    },
    {
      "cell_type": "markdown",
      "metadata": {
        "id": "agkzDAWo5Aev",
        "colab_type": "text"
      },
      "source": [
        "## Import the relevant libraries"
      ]
    },
    {
      "cell_type": "code",
      "metadata": {
        "id": "gQBTK-uv2nl8",
        "colab_type": "code",
        "colab": {}
      },
      "source": [
        "import numpy as np\n",
        "import matplotlib.pyplot as plt\n",
        "import tensorflow as tf"
      ],
      "execution_count": 1,
      "outputs": []
    },
    {
      "cell_type": "markdown",
      "metadata": {
        "id": "NJYOFImf5DTX",
        "colab_type": "text"
      },
      "source": [
        "## Data generation"
      ]
    },
    {
      "cell_type": "code",
      "metadata": {
        "id": "gZX_9McK5E30",
        "colab_type": "code",
        "colab": {}
      },
      "source": [
        "observations = 1000\n",
        "\n",
        "xs = np.random.uniform(low=-10, high=10, size=(observations,1))\n",
        "zs = np.random.uniform(-10, 10, (observations,1))\n",
        "\n",
        "generated_inputs = np.column_stack((xs,zs))\n",
        "\n",
        "noise = np.random.uniform(-1, 1, (observations,1))\n",
        "\n",
        "generated_targets = 2*xs - 3*zs + 5 + noise\n",
        "\n",
        "np.savez('TF_intro', inputs=generated_inputs, targets=generated_targets)"
      ],
      "execution_count": 2,
      "outputs": []
    },
    {
      "cell_type": "markdown",
      "metadata": {
        "id": "b7TAaNeN5FGV",
        "colab_type": "text"
      },
      "source": [
        "## Solving with Tensorflow"
      ]
    },
    {
      "cell_type": "code",
      "metadata": {
        "id": "CfXNhlTG5G35",
        "colab_type": "code",
        "colab": {}
      },
      "source": [
        "training_data = np.load('TF_intro.npz')"
      ],
      "execution_count": 3,
      "outputs": []
    },
    {
      "cell_type": "code",
      "metadata": {
        "id": "QdmoGQ5X7_Gb",
        "colab_type": "code",
        "colab": {
          "base_uri": "https://localhost:8080/",
          "height": 34
        },
        "outputId": "25d8600f-6281-46bd-b367-ac7952f5ce9d"
      },
      "source": [
        "input_size = 2\n",
        "output_size = 1\n",
        "\n",
        "model = tf.keras.Sequential([\n",
        "                            tf.keras.layers.Dense(output_size)\n",
        "                            ])\n",
        "\n",
        "model.compile(optimizer='sgd', loss='mean_squared_error')\n",
        "\n",
        "model.fit(training_data['inputs'], training_data['targets'], epochs=100, verbose=0)"
      ],
      "execution_count": 4,
      "outputs": [
        {
          "output_type": "execute_result",
          "data": {
            "text/plain": [
              "<tensorflow.python.keras.callbacks.History at 0x7f1bfe7c9fd0>"
            ]
          },
          "metadata": {
            "tags": []
          },
          "execution_count": 4
        }
      ]
    }
  ]
}