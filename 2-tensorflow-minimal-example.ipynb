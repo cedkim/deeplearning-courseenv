{
  "nbformat": 4,
  "nbformat_minor": 0,
  "metadata": {
    "colab": {
      "name": "Tensorflow Minimal Example.ipynb",
      "provenance": [],
      "authorship_tag": "ABX9TyOSPycVMfoLF0+3ih1UD4tJ",
      "include_colab_link": true
    },
    "kernelspec": {
      "name": "python3",
      "display_name": "Python 3"
    }
  },
  "cells": [
    {
      "cell_type": "markdown",
      "metadata": {
        "id": "view-in-github",
        "colab_type": "text"
      },
      "source": [
        "<a href=\"https://colab.research.google.com/github/cedkim/deeplearning-courseenv/blob/master/2-tensorflow-minimal-example.ipynb\" target=\"_parent\"><img src=\"https://colab.research.google.com/assets/colab-badge.svg\" alt=\"Open In Colab\"/></a>"
      ]
    },
    {
      "cell_type": "markdown",
      "metadata": {
        "id": "fjnDvqg044FI",
        "colab_type": "text"
      },
      "source": [
        "# Tensorflow Minimal Example"
      ]
    },
    {
      "cell_type": "markdown",
      "metadata": {
        "id": "agkzDAWo5Aev",
        "colab_type": "text"
      },
      "source": [
        "## Import the relevant libraries"
      ]
    },
    {
      "cell_type": "code",
      "metadata": {
        "id": "gQBTK-uv2nl8",
        "colab_type": "code",
        "colab": {}
      },
      "source": [
        "import numpy as np\n",
        "import matplotlib.pyplot as plt\n",
        "import tensorflow as tf"
      ],
      "execution_count": 1,
      "outputs": []
    },
    {
      "cell_type": "markdown",
      "metadata": {
        "id": "NJYOFImf5DTX",
        "colab_type": "text"
      },
      "source": [
        "## Data generation"
      ]
    },
    {
      "cell_type": "code",
      "metadata": {
        "id": "gZX_9McK5E30",
        "colab_type": "code",
        "colab": {}
      },
      "source": [
        "observations = 1000\n",
        "\n",
        "xs = np.random.uniform(low=-10, high=10, size=(observations,1))\n",
        "zs = np.random.uniform(-10, 10, (observations,1))\n",
        "\n",
        "generated_inputs = np.column_stack((xs,zs))\n",
        "\n",
        "noise = np.random.uniform(-1, 1, (observations,1))\n",
        "\n",
        "generated_targets = 2*xs - 3*zs + 5 + noise\n",
        "\n",
        "np.savez('TF_intro', inputs=generated_inputs, targets=generated_targets)"
      ],
      "execution_count": 2,
      "outputs": []
    },
    {
      "cell_type": "markdown",
      "metadata": {
        "id": "b7TAaNeN5FGV",
        "colab_type": "text"
      },
      "source": [
        "## Solving with Tensorflow"
      ]
    },
    {
      "cell_type": "code",
      "metadata": {
        "id": "CfXNhlTG5G35",
        "colab_type": "code",
        "colab": {}
      },
      "source": [
        "training_data = np.load('TF_intro.npz')"
      ],
      "execution_count": 3,
      "outputs": []
    },
    {
      "cell_type": "code",
      "metadata": {
        "id": "QdmoGQ5X7_Gb",
        "colab_type": "code",
        "colab": {
          "base_uri": "https://localhost:8080/",
          "height": 1000
        },
        "outputId": "d7904c21-07e7-4691-efc7-f748c3828072"
      },
      "source": [
        "input_size = 2\n",
        "output_size = 1\n",
        "\n",
        "model = tf.keras.Sequential([\n",
        "                            tf.keras.layers.Dense(output_size)\n",
        "                            ])\n",
        "\n",
        "model.compile(optimizer='sgd', loss='mean_squared_error')\n",
        "\n",
        "model.fit(training_data['inputs'], training_data['targets'], epochs=100, verbose=1)"
      ],
      "execution_count": 5,
      "outputs": [
        {
          "output_type": "stream",
          "text": [
            "Epoch 1/100\n",
            "32/32 [==============================] - 0s 1ms/step - loss: 31.8750\n",
            "Epoch 2/100\n",
            "32/32 [==============================] - 0s 770us/step - loss: 4.4720\n",
            "Epoch 3/100\n",
            "32/32 [==============================] - 0s 782us/step - loss: 1.4965\n",
            "Epoch 4/100\n",
            "32/32 [==============================] - 0s 945us/step - loss: 0.6605\n",
            "Epoch 5/100\n",
            "32/32 [==============================] - 0s 939us/step - loss: 0.4442\n",
            "Epoch 6/100\n",
            "32/32 [==============================] - 0s 785us/step - loss: 0.3926\n",
            "Epoch 7/100\n",
            "32/32 [==============================] - 0s 790us/step - loss: 0.3793\n",
            "Epoch 8/100\n",
            "32/32 [==============================] - 0s 704us/step - loss: 0.3646\n",
            "Epoch 9/100\n",
            "32/32 [==============================] - 0s 903us/step - loss: 0.3640\n",
            "Epoch 10/100\n",
            "32/32 [==============================] - 0s 834us/step - loss: 0.3608\n",
            "Epoch 11/100\n",
            "32/32 [==============================] - 0s 820us/step - loss: 0.3708\n",
            "Epoch 12/100\n",
            "32/32 [==============================] - 0s 723us/step - loss: 0.3639\n",
            "Epoch 13/100\n",
            "32/32 [==============================] - 0s 760us/step - loss: 0.3689\n",
            "Epoch 14/100\n",
            "32/32 [==============================] - 0s 806us/step - loss: 0.3618\n",
            "Epoch 15/100\n",
            "32/32 [==============================] - 0s 955us/step - loss: 0.3714\n",
            "Epoch 16/100\n",
            "32/32 [==============================] - 0s 851us/step - loss: 0.3623\n",
            "Epoch 17/100\n",
            "32/32 [==============================] - 0s 819us/step - loss: 0.3699\n",
            "Epoch 18/100\n",
            "32/32 [==============================] - 0s 915us/step - loss: 0.3718\n",
            "Epoch 19/100\n",
            "32/32 [==============================] - 0s 921us/step - loss: 0.3635\n",
            "Epoch 20/100\n",
            "32/32 [==============================] - 0s 1ms/step - loss: 0.3681\n",
            "Epoch 21/100\n",
            "32/32 [==============================] - 0s 1ms/step - loss: 0.3685\n",
            "Epoch 22/100\n",
            "32/32 [==============================] - 0s 809us/step - loss: 0.3618\n",
            "Epoch 23/100\n",
            "32/32 [==============================] - 0s 774us/step - loss: 0.3646\n",
            "Epoch 24/100\n",
            "32/32 [==============================] - 0s 757us/step - loss: 0.3740\n",
            "Epoch 25/100\n",
            "32/32 [==============================] - 0s 778us/step - loss: 0.3604\n",
            "Epoch 26/100\n",
            "32/32 [==============================] - 0s 799us/step - loss: 0.3635\n",
            "Epoch 27/100\n",
            "32/32 [==============================] - 0s 838us/step - loss: 0.3764\n",
            "Epoch 28/100\n",
            "32/32 [==============================] - 0s 900us/step - loss: 0.3666\n",
            "Epoch 29/100\n",
            "32/32 [==============================] - 0s 840us/step - loss: 0.3682\n",
            "Epoch 30/100\n",
            "32/32 [==============================] - 0s 873us/step - loss: 0.3611\n",
            "Epoch 31/100\n",
            "32/32 [==============================] - 0s 821us/step - loss: 0.3617\n",
            "Epoch 32/100\n",
            "32/32 [==============================] - 0s 913us/step - loss: 0.3615\n",
            "Epoch 33/100\n",
            "32/32 [==============================] - 0s 983us/step - loss: 0.3626\n",
            "Epoch 34/100\n",
            "32/32 [==============================] - 0s 793us/step - loss: 0.3572\n",
            "Epoch 35/100\n",
            "32/32 [==============================] - 0s 760us/step - loss: 0.3639\n",
            "Epoch 36/100\n",
            "32/32 [==============================] - 0s 741us/step - loss: 0.3553\n",
            "Epoch 37/100\n",
            "32/32 [==============================] - 0s 813us/step - loss: 0.3743\n",
            "Epoch 38/100\n",
            "32/32 [==============================] - 0s 866us/step - loss: 0.3634\n",
            "Epoch 39/100\n",
            "32/32 [==============================] - 0s 875us/step - loss: 0.3716\n",
            "Epoch 40/100\n",
            "32/32 [==============================] - 0s 909us/step - loss: 0.3642\n",
            "Epoch 41/100\n",
            "32/32 [==============================] - 0s 841us/step - loss: 0.3642\n",
            "Epoch 42/100\n",
            "32/32 [==============================] - 0s 833us/step - loss: 0.3647\n",
            "Epoch 43/100\n",
            "32/32 [==============================] - 0s 738us/step - loss: 0.3579\n",
            "Epoch 44/100\n",
            "32/32 [==============================] - 0s 796us/step - loss: 0.3662\n",
            "Epoch 45/100\n",
            "32/32 [==============================] - 0s 995us/step - loss: 0.3722\n",
            "Epoch 46/100\n",
            "32/32 [==============================] - 0s 912us/step - loss: 0.3685\n",
            "Epoch 47/100\n",
            "32/32 [==============================] - 0s 854us/step - loss: 0.3638\n",
            "Epoch 48/100\n",
            "32/32 [==============================] - 0s 850us/step - loss: 0.3682\n",
            "Epoch 49/100\n",
            "32/32 [==============================] - 0s 872us/step - loss: 0.3683\n",
            "Epoch 50/100\n",
            "32/32 [==============================] - 0s 756us/step - loss: 0.3734\n",
            "Epoch 51/100\n",
            "32/32 [==============================] - 0s 880us/step - loss: 0.3676\n",
            "Epoch 52/100\n",
            "32/32 [==============================] - 0s 775us/step - loss: 0.3589\n",
            "Epoch 53/100\n",
            "32/32 [==============================] - 0s 774us/step - loss: 0.3590\n",
            "Epoch 54/100\n",
            "32/32 [==============================] - 0s 719us/step - loss: 0.3631\n",
            "Epoch 55/100\n",
            "32/32 [==============================] - 0s 798us/step - loss: 0.3675\n",
            "Epoch 56/100\n",
            "32/32 [==============================] - 0s 850us/step - loss: 0.3666\n",
            "Epoch 57/100\n",
            "32/32 [==============================] - 0s 821us/step - loss: 0.3620\n",
            "Epoch 58/100\n",
            "32/32 [==============================] - 0s 763us/step - loss: 0.3691\n",
            "Epoch 59/100\n",
            "32/32 [==============================] - 0s 782us/step - loss: 0.3699\n",
            "Epoch 60/100\n",
            "32/32 [==============================] - 0s 755us/step - loss: 0.3747\n",
            "Epoch 61/100\n",
            "32/32 [==============================] - 0s 714us/step - loss: 0.3660\n",
            "Epoch 62/100\n",
            "32/32 [==============================] - 0s 939us/step - loss: 0.3609\n",
            "Epoch 63/100\n",
            "32/32 [==============================] - 0s 856us/step - loss: 0.3707\n",
            "Epoch 64/100\n",
            "32/32 [==============================] - 0s 1ms/step - loss: 0.3690\n",
            "Epoch 65/100\n",
            "32/32 [==============================] - 0s 748us/step - loss: 0.3620\n",
            "Epoch 66/100\n",
            "32/32 [==============================] - 0s 790us/step - loss: 0.3671\n",
            "Epoch 67/100\n",
            "32/32 [==============================] - 0s 802us/step - loss: 0.3667\n",
            "Epoch 68/100\n",
            "32/32 [==============================] - 0s 898us/step - loss: 0.3635\n",
            "Epoch 69/100\n",
            "32/32 [==============================] - 0s 752us/step - loss: 0.3607\n",
            "Epoch 70/100\n",
            "32/32 [==============================] - 0s 785us/step - loss: 0.3615\n",
            "Epoch 71/100\n",
            "32/32 [==============================] - 0s 754us/step - loss: 0.3628\n",
            "Epoch 72/100\n",
            "32/32 [==============================] - 0s 727us/step - loss: 0.3743\n",
            "Epoch 73/100\n",
            "32/32 [==============================] - 0s 806us/step - loss: 0.3693\n",
            "Epoch 74/100\n",
            "32/32 [==============================] - 0s 999us/step - loss: 0.3643\n",
            "Epoch 75/100\n",
            "32/32 [==============================] - 0s 826us/step - loss: 0.3687\n",
            "Epoch 76/100\n",
            "32/32 [==============================] - 0s 834us/step - loss: 0.3652\n",
            "Epoch 77/100\n",
            "32/32 [==============================] - 0s 854us/step - loss: 0.3669\n",
            "Epoch 78/100\n",
            "32/32 [==============================] - 0s 854us/step - loss: 0.3659\n",
            "Epoch 79/100\n",
            "32/32 [==============================] - 0s 1ms/step - loss: 0.3662\n",
            "Epoch 80/100\n",
            "32/32 [==============================] - 0s 904us/step - loss: 0.3590\n",
            "Epoch 81/100\n",
            "32/32 [==============================] - 0s 793us/step - loss: 0.3713\n",
            "Epoch 82/100\n",
            "32/32 [==============================] - 0s 803us/step - loss: 0.3635\n",
            "Epoch 83/100\n",
            "32/32 [==============================] - 0s 760us/step - loss: 0.3621\n",
            "Epoch 84/100\n",
            "32/32 [==============================] - 0s 797us/step - loss: 0.3675\n",
            "Epoch 85/100\n",
            "32/32 [==============================] - 0s 769us/step - loss: 0.3637\n",
            "Epoch 86/100\n",
            "32/32 [==============================] - 0s 898us/step - loss: 0.3609\n",
            "Epoch 87/100\n",
            "32/32 [==============================] - 0s 785us/step - loss: 0.3639\n",
            "Epoch 88/100\n",
            "32/32 [==============================] - 0s 729us/step - loss: 0.3611\n",
            "Epoch 89/100\n",
            "32/32 [==============================] - 0s 777us/step - loss: 0.3630\n",
            "Epoch 90/100\n",
            "32/32 [==============================] - 0s 847us/step - loss: 0.3610\n",
            "Epoch 91/100\n",
            "32/32 [==============================] - 0s 849us/step - loss: 0.3638\n",
            "Epoch 92/100\n",
            "32/32 [==============================] - 0s 959us/step - loss: 0.3668\n",
            "Epoch 93/100\n",
            "32/32 [==============================] - 0s 818us/step - loss: 0.3702\n",
            "Epoch 94/100\n",
            "32/32 [==============================] - 0s 756us/step - loss: 0.3651\n",
            "Epoch 95/100\n",
            "32/32 [==============================] - 0s 784us/step - loss: 0.3634\n",
            "Epoch 96/100\n",
            "32/32 [==============================] - 0s 793us/step - loss: 0.3597\n",
            "Epoch 97/100\n",
            "32/32 [==============================] - 0s 967us/step - loss: 0.3610\n",
            "Epoch 98/100\n",
            "32/32 [==============================] - 0s 781us/step - loss: 0.3622\n",
            "Epoch 99/100\n",
            "32/32 [==============================] - 0s 828us/step - loss: 0.3606\n",
            "Epoch 100/100\n",
            "32/32 [==============================] - 0s 833us/step - loss: 0.3612\n"
          ],
          "name": "stdout"
        },
        {
          "output_type": "execute_result",
          "data": {
            "text/plain": [
              "<tensorflow.python.keras.callbacks.History at 0x7f1bfc131f60>"
            ]
          },
          "metadata": {
            "tags": []
          },
          "execution_count": 5
        }
      ]
    }
  ]
}